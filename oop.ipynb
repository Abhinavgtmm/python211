{
 "cells": [
  {
   "cell_type": "code",
   "execution_count": 15,
   "id": "8e737eaf-2a7b-4d7f-bdcd-c17ca7ceca74",
   "metadata": {},
   "outputs": [
    {
     "name": "stdout",
     "output_type": "stream",
     "text": [
      "Hello world\n"
     ]
    }
   ],
   "source": [
    "class Hello:#class is always defined by capital letter\n",
    "    def hello(self):#fuction by small letter #method\n",
    "        print(\"Hello world\")\n",
    "obj=Hello()  #object\n",
    "obj.hello()#class method"
   ]
  },
  {
   "cell_type": "code",
   "execution_count": 20,
   "id": "6834fd0d-85e8-45c4-a67e-a61b70e4c0b0",
   "metadata": {},
   "outputs": [
    {
     "name": "stdout",
     "output_type": "stream",
     "text": [
      "hello world\n"
     ]
    }
   ],
   "source": [
    "class Hello:\n",
    "    @staticmethod\n",
    "    def hello():\n",
    "        print(\"hello world\")\n",
    "obj=Hello()\n",
    "obj.hello()"
   ]
  },
  {
   "cell_type": "code",
   "execution_count": 51,
   "id": "3ef3a6a7-beaf-4ed5-acb8-5b04d69c156d",
   "metadata": {},
   "outputs": [
    {
     "name": "stdin",
     "output_type": "stream",
     "text": [
      "enter a no 3\n",
      "enter 2nd no 4\n"
     ]
    },
    {
     "name": "stdout",
     "output_type": "stream",
     "text": [
      "12\n"
     ]
    }
   ],
   "source": [
    "class Area:\n",
    "    def area(self,l,b):\n",
    "        a=l*b\n",
    "        print(a)\n",
    "obj=Area()\n",
    "l=int(input(\"enter a no\"))\n",
    "b=int(input(\"enter 2nd no\"))\n",
    "obj.area(l,b)"
   ]
  },
  {
   "cell_type": "code",
   "execution_count": 52,
   "id": "d52e32b1-3243-40e1-acc2-79926e3434ec",
   "metadata": {},
   "outputs": [
    {
     "name": "stdin",
     "output_type": "stream",
     "text": [
      "enter a no 7\n",
      "enter 2nd no 8\n"
     ]
    },
    {
     "name": "stdout",
     "output_type": "stream",
     "text": [
      "56\n"
     ]
    }
   ],
   "source": [
    "class Area:\n",
    "    @staticmethod\n",
    "    def area(l,b):\n",
    "        a=l*b\n",
    "        print(a)\n",
    "obj=Area()\n",
    "l=int(input(\"enter a no\"))\n",
    "b=int(input(\"enter 2nd no\"))\n",
    "\n",
    "obj.area(l,b)"
   ]
  },
  {
   "cell_type": "code",
   "execution_count": 47,
   "id": "56517232-5d8e-4a50-89dc-d9f6b986cf3e",
   "metadata": {},
   "outputs": [
    {
     "name": "stdout",
     "output_type": "stream",
     "text": [
      "60\n"
     ]
    }
   ],
   "source": [
    "class Area:\n",
    "    def __init__(self, l, b):\n",
    "        self.l = l\n",
    "        self.b = b\n",
    "\n",
    "    def area(self):\n",
    "        a = self.l * self.b\n",
    "        print(a)\n",
    "\n",
    "l = 20\n",
    "b = 3\n",
    "obj = Area(l, b)\n",
    "obj.area()"
   ]
  },
  {
   "cell_type": "code",
   "execution_count": 62,
   "id": "eae6d951-910e-4907-8983-930473b8d396",
   "metadata": {},
   "outputs": [
    {
     "name": "stdout",
     "output_type": "stream",
     "text": [
      "60\n",
      "120\n"
     ]
    }
   ],
   "source": [
    "class call:\n",
    "    def __init__(self, l, b,h):\n",
    "        self.l = l\n",
    "        self.b = b\n",
    "        self.h=h\n",
    "\n",
    "    def area(self):\n",
    "        a = self.l * self.b\n",
    "        print(a)\n",
    "    def volume(self):\n",
    "        v=self.l*self.b*self.h\n",
    "        print(v)\n",
    "\n",
    "l = 20\n",
    "b = 3\n",
    "h=2\n",
    "obj = call(l, b,h)\n",
    "obj.area()\n",
    "obj.volume()"
   ]
  },
  {
   "cell_type": "code",
   "execution_count": 57,
   "id": "eab7502a-a203-485c-ae3f-995873a1328b",
   "metadata": {},
   "outputs": [
    {
     "name": "stdout",
     "output_type": "stream",
     "text": [
      "60\n",
      "120\n"
     ]
    }
   ],
   "source": [
    "class call:\n",
    "    def __init__(s, l, b,h):\n",
    "        s.l = l\n",
    "        s.b = b\n",
    "        s.h=h\n",
    "\n",
    "    def area(s):\n",
    "        a = s.l * s.b\n",
    "        print(a)\n",
    "    def volume(s):\n",
    "        v=s.l*s.b*s.h\n",
    "        print(v)\n",
    "\n",
    "l = 20\n",
    "b = 3\n",
    "h=2\n",
    "obj = call(l, b,h)\n",
    "obj.area()\n",
    "obj.volume()"
   ]
  },
  {
   "cell_type": "code",
   "execution_count": 92,
   "id": "46a5d623-2049-4682-9718-110df44be4e9",
   "metadata": {},
   "outputs": [
    {
     "name": "stdin",
     "output_type": "stream",
     "text": [
      "enter l= 2\n",
      "enter b= 4\n",
      "enter h= 2\n"
     ]
    },
    {
     "name": "stdout",
     "output_type": "stream",
     "text": [
      "8\n",
      "16\n"
     ]
    }
   ],
   "source": [
    "class call:\n",
    "    def __init__(self):\n",
    "        self.l = int(input(\"enter l=\"))\n",
    "        self.b = int(input(\"enter b=\"))\n",
    "        self.h=int(input(\"enter h=\"))\n",
    "\n",
    "    def area(self):\n",
    "        a = self.l * self.b\n",
    "        print(a)\n",
    "    def volume(self):\n",
    "\n",
    "        v=self.l*self.b*self.h\n",
    "        print(v)\n",
    "\n",
    "obj = call()\n",
    "obj.area()\n",
    "obj.volume()"
   ]
  },
  {
   "cell_type": "code",
   "execution_count": 100,
   "id": "09167885-af9f-4fe0-80df-2305caacc5d9",
   "metadata": {},
   "outputs": [
    {
     "name": "stdin",
     "output_type": "stream",
     "text": [
      "enter l= 7\n",
      "enter b= 8\n",
      "enter h= 0\n"
     ]
    },
    {
     "name": "stdout",
     "output_type": "stream",
     "text": [
      "56\n",
      "0\n"
     ]
    }
   ],
   "source": [
    "class Area:\n",
    "    def __init__(self,l,b):\n",
    "        self.l = l\n",
    "        self.b = b\n",
    "\n",
    "    def area(self):\n",
    "        a = self.l * self.b\n",
    "        print(a)\n",
    "class Volume:\n",
    "    def __init__(self,l,b,h):\n",
    "        \n",
    "        self.l = l\n",
    "        self.b = b\n",
    "        self.h=h\n",
    "    def volume(self):\n",
    "            v= self.l * self.b * self.h\n",
    "            print(v)\n",
    "        \n",
    "l = int(input(\"enter l=\"))\n",
    "b = int(input(\"enter b=\"))\n",
    "h= int(input(\"enter h=\"))\n",
    "        \n",
    "\n",
    "obj1 = Area(l,b)\n",
    "obj2 =Volume(l,b,h)\n",
    "obj1.area()\n",
    "obj2.volume()"
   ]
  },
  {
   "cell_type": "code",
   "execution_count": null,
   "id": "33f0e2be-2b69-41aa-baf1-5593eddba9a3",
   "metadata": {},
   "outputs": [],
   "source": [
    "class Area:\n",
    "    def __init__(self,l,b):\n",
    "        self.l = l\n",
    "        self.b = b\n",
    "        \n",
    "    def area(self):\n",
    "        a = self.l*self.b\n",
    "        print(a)\n",
    "        \n",
    "class Volume:\n",
    "    def __init__(self,l,b,h):\n",
    "        self.l = l\n",
    "        self.b = b\n",
    "        self.h = h\n",
    "    def volume(self):\n",
    "        v = self.l*self.b*self.h\n",
    "        print(v)\n",
    "        \n",
    "l = int(input(\"Enter l = \"))\n",
    "b = int(input(\"Enter b = \"))\n",
    "h = int(input(\"Enter h = \"))\n",
    "obj1 = Area(l,b)\n",
    "obj2 = Volume(l,b,h)\n",
    "obj1.area()\n",
    "obj2.volume()"
   ]
  },
  {
   "cell_type": "code",
   "execution_count": null,
   "id": "af2b2084-badd-42ca-8beb-bbee98ea6107",
   "metadata": {},
   "outputs": [],
   "source": []
  }
 ],
 "metadata": {
  "kernelspec": {
   "display_name": "Python 3 (ipykernel)",
   "language": "python",
   "name": "python3"
  },
  "language_info": {
   "codemirror_mode": {
    "name": "ipython",
    "version": 3
   },
   "file_extension": ".py",
   "mimetype": "text/x-python",
   "name": "python",
   "nbconvert_exporter": "python",
   "pygments_lexer": "ipython3",
   "version": "3.11.7"
  }
 },
 "nbformat": 4,
 "nbformat_minor": 5
}

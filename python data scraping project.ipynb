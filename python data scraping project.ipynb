{
 "cells": [
  {
   "cell_type": "code",
   "execution_count": 1,
   "id": "7ed7162f-50c8-41d6-b464-40c5c455b921",
   "metadata": {},
   "outputs": [
    {
     "name": "stdout",
     "output_type": "stream",
     "text": [
      "     S.No    Symbol       LTP  Point Change  % Change      Open      High  \\\n",
      "0       1    ACLBSL  1,289.00          59.0      4.80  1,215.00  1,320.00   \n",
      "1       2      ADBL    310.00          16.0      5.44    299.00    320.00   \n",
      "2       3       AHL    541.00          20.7      3.98    521.00    562.00   \n",
      "3       4      AHPC    195.60          17.7      9.95    181.40    195.60   \n",
      "4       5     AKJCL    162.80          14.8     10.00    150.90    162.80   \n",
      "..    ...       ...       ...           ...       ...       ...       ...   \n",
      "105   106     KMCDB  1,231.10          31.2      2.60  1,176.00  1,239.30   \n",
      "106   107      KPCL    491.00          26.0      5.59    465.00    493.00   \n",
      "107   108      KRBL    509.90          26.0      5.37    489.00    515.00   \n",
      "108   109     KSBBL    429.90          13.9      3.34    415.00    431.00   \n",
      "109   110  KSBBLD87  1,005.00         -20.0     -1.95  1,005.00  1,005.00   \n",
      "\n",
      "          Low      Volume Prev. Close  \n",
      "0    1,210.00   23,615.00    1,230.00  \n",
      "1      288.80  270,358.00      294.00  \n",
      "2      521.00   32,072.00      520.30  \n",
      "3      178.80  881,530.00      177.90  \n",
      "4      150.90   49,035.00      148.00  \n",
      "..        ...         ...         ...  \n",
      "105  1,160.00   18,881.00    1,199.90  \n",
      "106    465.00   75,249.00      465.00  \n",
      "107    482.20   46,638.00      483.90  \n",
      "108    412.00   88,075.00      416.00  \n",
      "109  1,005.00      100.00    1,025.00  \n",
      "\n",
      "[110 rows x 10 columns]\n"
     ]
    }
   ],
   "source": [
    "import requests\n",
    "from bs4 import BeautifulSoup\n",
    "import csv\n",
    "import pandas as pd\n",
    "\n",
    "url = 'https://www.sharesansar.com/live-trading'\n",
    "response = requests.get(url)\n",
    "html_content = response.content\n",
    "\n",
    "soup = BeautifulSoup(html_content, 'html.parser')\n",
    "table = soup.find('table')\n",
    "headers = [header.text.strip() for header in table.find_all('th')]\n",
    "rows = table.find_all('tr')\n",
    "\n",
    "data_list = []\n",
    "for row in rows:\n",
    "    columns = row.find_all('td')\n",
    "    if columns:\n",
    "        data_list.append([column.text.strip() for column in columns])\n",
    "\n",
    "\n",
    "file= open('list_data.csv', 'w')\n",
    "x = csv.writer(file)\n",
    "x.writerow(headers)\n",
    "x.writerows(data_list)\n",
    "\n",
    "df = pd.read_csv('list_data.csv',encoding='latin1')\n",
    "print(df)\n"
   ]
  },
  {
   "cell_type": "code",
   "execution_count": null,
   "id": "926552ff-b5eb-4942-902b-c17f858f0154",
   "metadata": {},
   "outputs": [],
   "source": []
  }
 ],
 "metadata": {
  "kernelspec": {
   "display_name": "Python 3 (ipykernel)",
   "language": "python",
   "name": "python3"
  },
  "language_info": {
   "codemirror_mode": {
    "name": "ipython",
    "version": 3
   },
   "file_extension": ".py",
   "mimetype": "text/x-python",
   "name": "python",
   "nbconvert_exporter": "python",
   "pygments_lexer": "ipython3",
   "version": "3.11.7"
  }
 },
 "nbformat": 4,
 "nbformat_minor": 5
}

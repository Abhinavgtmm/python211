{
 "cells": [
  {
   "cell_type": "code",
   "execution_count": null,
   "id": "1751f228-fa73-43ba-8abb-f79a392cc8de",
   "metadata": {},
   "outputs": [],
   "source": [
    "class A:\n",
    "    pass\n",
    "class B:\n",
    "    pass\n",
    "obj=B()\n"
   ]
  },
  {
   "cell_type": "code",
   "execution_count": 15,
   "id": "6edb9d87-fcd0-4d6e-955b-0e19e5d87665",
   "metadata": {},
   "outputs": [
    {
     "name": "stdout",
     "output_type": "stream",
     "text": [
      "hello world i amram. I am 45 .i am from ktm\n"
     ]
    }
   ],
   "source": [
    "class Data:#parent class\n",
    "    def __init__(self):\n",
    "        self.name=\"ram\"\n",
    "        self.age=45\n",
    "        self.add=\"ktm\"\n",
    "class Info(Data):#child class\n",
    "    def info(self):\n",
    "        print(f\"hello world i am{self.name}. I am {self.age} .i am from {self.add}\")\n",
    "obj= Info()\n",
    "obj.info()\n",
    "    "
   ]
  },
  {
   "cell_type": "code",
   "execution_count": 2,
   "id": "c635cef6-02f0-48d9-8afb-5726473b01bf",
   "metadata": {},
   "outputs": [
    {
     "name": "stdin",
     "output_type": "stream",
     "text": [
      "enter name= abv\n",
      "enetr age 17\n",
      "enter add= ktm\n"
     ]
    },
    {
     "name": "stdout",
     "output_type": "stream",
     "text": [
      "hello world i am abv. I am 17 .I am from ktm\n"
     ]
    }
   ],
   "source": [
    "class Data:\n",
    "    def __init__(self):\n",
    "        self.name=name\n",
    "        self.age=age\n",
    "        self.add=add\n",
    "    def data(self):##global variable liyeko\n",
    "        print(self.name,self.age,self.add)         \n",
    "class Info(Data):\n",
    "    def info(self):\n",
    "        print(f\"hello world i am {self.name}. I am {self.age} .I am from {self.add}\")\n",
    "name=input(\"enter name=\")\n",
    "age=int(input(\"enetr age\"))\n",
    "add=input(\"enter add=\")\n",
    "obj= Info()\n",
    "obj.info()\n",
    "    "
   ]
  },
  {
   "cell_type": "code",
   "execution_count": null,
   "id": "61558ebe-76a5-42b8-86c6-caae8e6d03b7",
   "metadata": {},
   "outputs": [],
   "source": [
    "class Data:\n",
    "    def __init__(self,name,age,add):\n",
    "        self.name=name\n",
    "        self.age=age\n",
    "        self.add=add\n",
    "    def data(self):##garnu parne way\n",
    "        print(self.name,self.age,self.add)         \n",
    "class Info(Data):\n",
    "    def info(self):\n",
    "        print(f\"hello world i am {self.name}. I am {self.age} .I am from {self.add}\")\n",
    "name=input(\"enter name=\")\n",
    "age=int(input(\"enetr age\"))\n",
    "add=input(\"enter add=\")\n",
    "obj= Info(name,age,add)\n",
    "obj.info()\n",
    "    "
   ]
  },
  {
   "cell_type": "code",
   "execution_count": 26,
   "id": "dd751708-ed98-4d9a-b49b-7ff16c0cc645",
   "metadata": {},
   "outputs": [
    {
     "name": "stdin",
     "output_type": "stream",
     "text": [
      "enter name= abv\n",
      "enetr age 34\n",
      "enter add= ktm\n"
     ]
    },
    {
     "name": "stdout",
     "output_type": "stream",
     "text": [
      "hello world i am abv. I am 34 .I am from ktm\n"
     ]
    }
   ],
   "source": [
    "class Data:\n",
    "    def __init__(self,add):\n",
    "        self.add=add\n",
    "    def data(self):\n",
    "        print(self.add)\n",
    "class Info(Data):\n",
    "    def __init__(self,name,age,add):\n",
    "        self.name=name\n",
    "        self.age=age\n",
    "        Data.__init__(self,add)\n",
    "    def info(self):\n",
    "        print(f\"hello world i am {self.name}. I am {self.age} .I am from {self.add}\")\n",
    "name=input(\"enter name=\")\n",
    "age=int(input(\"enter age\"))\n",
    "add=input(\"enter add=\")\n",
    "obj= Info(name,age,add)\n",
    "obj.info()\n",
    "    "
   ]
  },
  {
   "cell_type": "code",
   "execution_count": 30,
   "id": "a63bf537-7348-4846-8d33-6bd575997077",
   "metadata": {},
   "outputs": [],
   "source": [
    "#multilevel inheritance\n",
    "class A:#always parent \n",
    "    pass\n",
    "class B(A):\n",
    "    pass\n",
    "class C(A,B):#always child\n",
    "    pass\n",
    "obj=C()"
   ]
  },
  {
   "cell_type": "code",
   "execution_count": 32,
   "id": "c2ea73b7-eafc-45c9-9a1f-6ff1d0e53a01",
   "metadata": {},
   "outputs": [],
   "source": [
    "#multiple inheritance\n",
    "class A:#always parent \n",
    "    pass\n",
    "class B:\n",
    "    pass\n",
    "class C(A,B):#always child\n",
    "    pass\n",
    "obj=C()"
   ]
  },
  {
   "cell_type": "code",
   "execution_count": 11,
   "id": "a9045d0b-8706-42d0-ba5d-a339f44b49b1",
   "metadata": {},
   "outputs": [
    {
     "name": "stdout",
     "output_type": "stream",
     "text": [
      "hello world i am ram. I am 45\n",
      "ram\n",
      "45\n"
     ]
    }
   ],
   "source": [
    "#private public data\n",
    "class Data:#parent class\n",
    "    \n",
    "    def __init__(self):\n",
    "        self.name=\"ram\" #public member\n",
    "        self._age=45    #protected member\n",
    "        self.__add=\"ktm\"#private member\n",
    "    def data(self):\n",
    "        print(self.name,self.age,self.add)\n",
    "class Info(Data):#child class\n",
    "    def info(self):\n",
    "        print(f\"hello world i am {self.name}. I am {self._age}\")\n",
    "obj= Info()\n",
    "obj.info()\n",
    "print(obj.name)\n",
    "print(obj._age)#by oop rule it is not accepted but from python rule we can use protected outside the class by putting _before it"
   ]
  },
  {
   "cell_type": "code",
   "execution_count": 30,
   "id": "cbe126c1-4676-40b9-9f26-24dbb0fc9737",
   "metadata": {},
   "outputs": [
    {
     "name": "stdout",
     "output_type": "stream",
     "text": [
      " ram,ktm\n",
      "<class '__main__.Info'>\n"
     ]
    }
   ],
   "source": [
    "\n",
    "#str method\n",
    "\n",
    "class Info:\n",
    "    def __init__(self):\n",
    "        self.name=\"ram\"\n",
    "        self.age=\"65\"\n",
    "        self.add=\"ktm\"\n",
    "    def __str__(self):\n",
    "        \n",
    "      return f\" {self.name},{self.add}\"\n",
    "obj=Info()\n",
    "print(obj)\n",
    "\n",
    "print(type(obj))"
   ]
  },
  {
   "cell_type": "code",
   "execution_count": 15,
   "id": "28d76037-cd51-4a1f-8804-d939b405e7a5",
   "metadata": {},
   "outputs": [
    {
     "data": {
      "text/plain": [
       "'ram'"
      ]
     },
     "execution_count": 15,
     "metadata": {},
     "output_type": "execute_result"
    }
   ],
   "source": [
    "#to get values into string\n",
    "obj.__str__()"
   ]
  },
  {
   "cell_type": "code",
   "execution_count": 16,
   "id": "20290c77-3135-440f-9773-c9943d6b3694",
   "metadata": {},
   "outputs": [
    {
     "name": "stdout",
     "output_type": "stream",
     "text": [
      "ram\n"
     ]
    }
   ],
   "source": [
    "print(str(obj))"
   ]
  },
  {
   "cell_type": "code",
   "execution_count": 35,
   "id": "bf895990-4061-430b-a36e-97d990d9c5f7",
   "metadata": {},
   "outputs": [
    {
     "name": "stdout",
     "output_type": "stream",
     "text": [
      "this is init method 500\n",
      "this is init method 1500\n",
      "this is init method 3000\n",
      "this is add method 2000\n",
      "this is init method 2000\n",
      "this is add method 5000\n",
      "this is init method 5000\n",
      "this is str method 5000\n",
      "5000\n"
     ]
    }
   ],
   "source": [
    "class point:\n",
    "    def __init__(self,x=0):\n",
    "        self.x=x\n",
    "        print(\"this is init method\",self.x)\n",
    "\n",
    "    def __str__(self):\n",
    "        print(\"this is str method\",self.x)\n",
    "        return str(self.x)\n",
    "    def __add__(self,other):\n",
    "        x=self.x+other.x\n",
    "        print(\"this is add method\",x)\n",
    "        return point(x)\n",
    "p1=point(500)\n",
    "p2=point(1500)\n",
    "p3=point(3000)\n",
    "\n",
    "print(p1+p2+p3)"
   ]
  },
  {
   "cell_type": "code",
   "execution_count": 42,
   "id": "8c06619e-a4b7-4afe-94fe-8ee54f7a0af5",
   "metadata": {},
   "outputs": [
    {
     "name": "stdout",
     "output_type": "stream",
     "text": [
      "owl can fly\n",
      "penguin can't fly\n",
      "owl can't swim\n",
      "penguin can swim\n"
     ]
    }
   ],
   "source": [
    "#polymorphism\n",
    "class owl:\n",
    "    def fly(self):\n",
    "        print(\"owl can fly\")\n",
    "    def swim(self):\n",
    "        print(\"owl can't swim\")\n",
    "\n",
    "class penguin:\n",
    "    def fly(self):\n",
    "        print(\"penguin can't fly\")\n",
    "    def swim(self):\n",
    "        print(\"penguin can swim\")\n",
    "\n",
    "#common interface\n",
    "def flying_test(bird):\n",
    "    bird.fly()\n",
    "def swimming_test(fish):\n",
    "\n",
    "    fish.swim()\n",
    "#instantiate objects\n",
    "blu=owl()\n",
    "peggy=penguin()\n",
    "\n",
    "#passing the objects\n",
    "flying_test(blu)\n",
    "flying_test(peggy)\n",
    "\n",
    "swimming_test(blu)\n",
    "swimming_test(peggy)\n"
   ]
  },
  {
   "cell_type": "code",
   "execution_count": null,
   "id": "367257ed-0dc2-4de9-8243-f48eb57ce9af",
   "metadata": {},
   "outputs": [],
   "source": []
  }
 ],
 "metadata": {
  "kernelspec": {
   "display_name": "Python 3 (ipykernel)",
   "language": "python",
   "name": "python3"
  },
  "language_info": {
   "codemirror_mode": {
    "name": "ipython",
    "version": 3
   },
   "file_extension": ".py",
   "mimetype": "text/x-python",
   "name": "python",
   "nbconvert_exporter": "python",
   "pygments_lexer": "ipython3",
   "version": "3.11.7"
  }
 },
 "nbformat": 4,
 "nbformat_minor": 5
}

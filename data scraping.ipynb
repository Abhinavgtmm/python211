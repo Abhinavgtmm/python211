{
 "cells": [
  {
   "cell_type": "code",
   "execution_count": 3,
   "id": "e91729d8-1877-4b48-92f2-e431c31d1b8c",
   "metadata": {},
   "outputs": [
    {
     "name": "stdout",
     "output_type": "stream",
     "text": [
      "     S.No   Symbol       LTP  Point Change  % Change      Open      High  \\\n",
      "0       1   ACLBSL  1,245.00         52.50      4.40  1,216.00  1,260.00   \n",
      "1       2     ADBL    298.50          7.50      2.58    296.80    308.00   \n",
      "2       3  ADBLD83  1,137.90         21.90      1.96  1,094.30  1,137.90   \n",
      "3       4      AHL    533.00          3.00      0.57    540.60    551.00   \n",
      "4       5     AHPC    173.90         14.90      9.37    162.10    174.00   \n",
      "..    ...      ...       ...           ...       ...       ...       ...   \n",
      "106   107     KPCL    460.00          6.50      1.43    462.50    471.00   \n",
      "107   108     KRBL    488.00         -1.50     -0.31    499.20    509.00   \n",
      "108   109    KSBBL    420.00          2.30      0.55    426.00    434.00   \n",
      "109   110      KSY      9.68          0.33      3.53      9.50      9.68   \n",
      "110   111     LBBL    420.70          6.70      1.62    422.20    430.00   \n",
      "\n",
      "          Low      Volume Prev. Close  \n",
      "0    1,196.50   20,008.00    1,192.50  \n",
      "1      294.00  113,142.00      291.00  \n",
      "2    1,094.10      315.00    1,116.00  \n",
      "3      528.00   19,487.00      530.00  \n",
      "4      162.10  526,265.00      159.00  \n",
      "..        ...         ...         ...  \n",
      "106    450.10   18,630.00      453.50  \n",
      "107    485.00   31,727.00      489.50  \n",
      "108    418.50   89,950.00      417.70  \n",
      "109      9.30    5,020.00        9.35  \n",
      "110    415.00   65,207.00      414.00  \n",
      "\n",
      "[111 rows x 10 columns]\n"
     ]
    }
   ],
   "source": [
    "import requests\n",
    "from bs4 import BeautifulSoup\n",
    "import csv\n",
    "import pandas as pd\n",
    "\n",
    "url = 'https://www.sharesansar.com/live-trading'\n",
    "response = requests.get(url)\n",
    "html_content = response.content\n",
    "\n",
    "soup = BeautifulSoup(html_content, 'html.parser')\n",
    "table = soup.find('table')\n",
    "headers = [header.text.strip() for header in table.find_all('th')]\n",
    "rows = table.find_all('tr')\n",
    "\n",
    "data_list = []\n",
    "for row in rows:\n",
    "    columns = row.find_all('td')\n",
    "    if columns:\n",
    "        data_list.append([column.text.strip() for column in columns])\n",
    "\n",
    "\n",
    "file= open('list_data.csv', 'w')\n",
    "x = csv.writer(file)\n",
    "x.writerow(headers)\n",
    "x.writerows(data_list)\n",
    "\n",
    "df = pd.read_csv('list_data.csv',encoding='latin1')\n",
    "print(df)\n"
   ]
  },
  {
   "cell_type": "code",
   "execution_count": 58,
   "id": "cf978c25-a01d-4895-8afd-0bf26a0de6fa",
   "metadata": {},
   "outputs": [
    {
     "data": {
      "text/plain": [
       "'C:\\\\Users\\\\Admin'"
      ]
     },
     "execution_count": 58,
     "metadata": {},
     "output_type": "execute_result"
    }
   ],
   "source": []
  },
  {
   "cell_type": "code",
   "execution_count": null,
   "id": "518be857-9f56-4bc2-8f8e-12ee087983eb",
   "metadata": {},
   "outputs": [],
   "source": [
    "\n"
   ]
  },
  {
   "cell_type": "code",
   "execution_count": null,
   "id": "ab40fc97-2307-4345-9a81-515b7bbd224d",
   "metadata": {},
   "outputs": [],
   "source": []
  },
  {
   "cell_type": "code",
   "execution_count": null,
   "id": "076149d5-33ec-4bf1-b198-6f0845adb6ff",
   "metadata": {},
   "outputs": [],
   "source": []
  }
 ],
 "metadata": {
  "kernelspec": {
   "display_name": "Python 3 (ipykernel)",
   "language": "python",
   "name": "python3"
  },
  "language_info": {
   "codemirror_mode": {
    "name": "ipython",
    "version": 3
   },
   "file_extension": ".py",
   "mimetype": "text/x-python",
   "name": "python",
   "nbconvert_exporter": "python",
   "pygments_lexer": "ipython3",
   "version": "3.11.7"
  }
 },
 "nbformat": 4,
 "nbformat_minor": 5
}

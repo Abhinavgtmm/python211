{
 "cells": [
  {
   "cell_type": "code",
   "execution_count": null,
   "id": "fa8b0d9b-4ad2-42ce-9408-a1e332cb3053",
   "metadata": {},
   "outputs": [],
   "source": []
  }
 ],
 "metadata": {
  "kernelspec": {
   "display_name": "Python 3 (ipykernel)",
   "language": "python",
   "name": "python3"
  },
  "language_info": {
   "name": ""
  }
 },
 "nbformat": 4,
 "nbformat_minor": 5
}
